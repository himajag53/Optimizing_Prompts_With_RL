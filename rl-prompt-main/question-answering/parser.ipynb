{
 "cells": [
  {
   "cell_type": "code",
   "execution_count": 22,
   "metadata": {
    "ExecuteTime": {
     "end_time": "2024-04-19T18:04:27.074286400Z",
     "start_time": "2024-04-19T18:04:27.071233400Z"
    }
   },
   "outputs": [],
   "source": [
    "import json\n",
    "import random"
   ]
  },
  {
   "cell_type": "code",
   "execution_count": 2,
   "metadata": {
    "ExecuteTime": {
     "end_time": "2024-04-19T17:56:09.067391700Z",
     "start_time": "2024-04-19T17:56:09.034361500Z"
    }
   },
   "outputs": [],
   "source": [
    "def load_json_file(filepath):\n",
    "    # Read the JSON file\n",
    "    with open(filepath, 'r') as f:\n",
    "        data = json.load(f)\n",
    "    return data"
   ]
  },
  {
   "cell_type": "code",
   "execution_count": 18,
   "metadata": {
    "ExecuteTime": {
     "end_time": "2024-04-19T18:04:16.532528600Z",
     "start_time": "2024-04-19T18:04:16.391579700Z"
    }
   },
   "outputs": [],
   "source": [
    "filepath = \"D:\\\\rl\\\\final\\\\Optimizing_Prompts_With_RL\\\\Data\\\\archive\\\\train-v1.1.json\"\n",
    "data = load_json_file(filepath)"
   ]
  },
  {
   "cell_type": "code",
   "execution_count": 23,
   "metadata": {
    "ExecuteTime": {
     "end_time": "2024-04-19T18:04:30.280997600Z",
     "start_time": "2024-04-19T18:04:30.159178700Z"
    }
   },
   "outputs": [],
   "source": [
    "converted_data = []\n",
    "\n",
    "for item in data['data']:\n",
    "    \n",
    "    for paragraph in item['paragraphs']:\n",
    "    \n",
    "        # extract context and QA pairs\n",
    "        context = paragraph['context']\n",
    "        qas = paragraph['qas']\n",
    "        \n",
    "        # empty list to store QA pairs for this context\n",
    "        qa_list = []\n",
    "        \n",
    "        # for each QA pair\n",
    "        for qa in qas:\n",
    "    \n",
    "            # extract question and answer\n",
    "            question = qa['question']\n",
    "            answers = qa['answers']\n",
    "    \n",
    "            # extract answer start position and ID\n",
    "            if answers:\n",
    "                answer_text = answers[0]['text']\n",
    "                answer_start = answers[0]['answer_start']\n",
    "                qa_id = qa['id']\n",
    "                \n",
    "                # create a QA dictionary in the desired format\n",
    "                qa_dict = {\n",
    "                    # 'id': qa_id,\n",
    "                    # 'is_impossible': False,  # assuming all answers are possible in data\n",
    "                    # 'question': question,\n",
    "                    # 'answers': [\n",
    "                    #     {\n",
    "                    #         'text': answer_text,\n",
    "                    #         'answer_start': answer_start,\n",
    "                    #     }\n",
    "                    # ],\n",
    "                    'context_and_question': context + \" \" + question,\n",
    "                    'answer': answer_text\n",
    "                }\n",
    "                \n",
    "                # append QA dictionary to QA list\n",
    "                qa_list.append(qa_dict)\n",
    "    \n",
    "        # create context dictionary with QA list\n",
    "        # context_dict = {\n",
    "        #     'context': context,\n",
    "        #     'qas': qa_list,\n",
    "        # }\n",
    "        \n",
    "        # append to converted data\n",
    "        # converted_data.append(context_dict)\n",
    "        converted_data.extend(qa_list)\n",
    "\n",
    "random.shuffle(converted_data)\n",
    "\n",
    "# print or save the converted data\n",
    "# print(json.dumps(converted_data, indent = 4))"
   ]
  },
  {
   "cell_type": "code",
   "execution_count": 24,
   "outputs": [
    {
     "name": "stdout",
     "output_type": "stream",
     "text": [
      "87599\n"
     ]
    }
   ],
   "source": [
    "print(len(converted_data))"
   ],
   "metadata": {
    "collapsed": false,
    "ExecuteTime": {
     "end_time": "2024-04-19T18:04:31.609454300Z",
     "start_time": "2024-04-19T18:04:31.601534800Z"
    }
   }
  },
  {
   "cell_type": "code",
   "execution_count": 25,
   "metadata": {
    "ExecuteTime": {
     "end_time": "2024-04-19T18:04:42.152330700Z",
     "start_time": "2024-04-19T18:04:41.499676500Z"
    }
   },
   "outputs": [],
   "source": [
    "output_file = 'data/squad/train-v3.json'\n",
    "\n",
    "with open(output_file, 'w') as outfile:\n",
    "    json.dump(converted_data[:int(len(converted_data)*.7)], outfile, indent = 4)"
   ]
  },
  {
   "cell_type": "code",
   "execution_count": 26,
   "outputs": [],
   "source": [
    "output_file = 'data/squad/test-v3.json'\n",
    "\n",
    "with open(output_file, 'w') as outfile:\n",
    "    json.dump(converted_data[int(len(converted_data)*.7):], outfile, indent = 4)"
   ],
   "metadata": {
    "collapsed": false,
    "ExecuteTime": {
     "end_time": "2024-04-19T18:04:43.667691400Z",
     "start_time": "2024-04-19T18:04:43.403194100Z"
    }
   }
  },
  {
   "cell_type": "code",
   "execution_count": null,
   "outputs": [],
   "source": [],
   "metadata": {
    "collapsed": false
   }
  }
 ],
 "metadata": {
  "kernelspec": {
   "display_name": "base",
   "language": "python",
   "name": "python3"
  },
  "language_info": {
   "codemirror_mode": {
    "name": "ipython",
    "version": 3
   },
   "file_extension": ".py",
   "mimetype": "text/x-python",
   "name": "python",
   "nbconvert_exporter": "python",
   "pygments_lexer": "ipython3",
   "version": "3.9.16"
  }
 },
 "nbformat": 4,
 "nbformat_minor": 2
}
